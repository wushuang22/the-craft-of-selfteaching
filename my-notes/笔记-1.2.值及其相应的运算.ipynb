{
 "metadata": {
  "language_info": {
   "codemirror_mode": {
    "name": "ipython",
    "version": 3
   },
   "file_extension": ".py",
   "mimetype": "text/x-python",
   "name": "python",
   "nbconvert_exporter": "python",
   "pygments_lexer": "ipython3",
   "version": "3.8.3-final"
  },
  "orig_nbformat": 2,
  "kernelspec": {
   "name": "Python 3.8.3 64-bit ('base': conda)",
   "display_name": "Python 3.8.3 64-bit ('base': conda)",
   "metadata": {
    "interpreter": {
     "hash": "c406a9cfc1551b01779fefec774f1263b6489e9079614e0d91df0ff6a4ea3df7"
    }
   }
  }
 },
 "nbformat": 4,
 "nbformat_minor": 2,
 "cells": [
  {
   "source": [
    "# 1.0 值及其相应的运算"
   ],
   "cell_type": "markdown",
   "metadata": {}
  },
  {
   "source": [
    "- 运算（Evaluation）\n",
    "- 流程控制（Control Flow）\n",
    "\n",
    "**函数看做是子程序**"
   ],
   "cell_type": "markdown",
   "metadata": {}
  },
  {
   "source": [
    "## 值"
   ],
   "cell_type": "markdown",
   "metadata": {}
  },
  {
   "source": [
    "- 运算（Evaluation）\n",
    "- 评价\n",
    "- 常量（Literals），有个*值* —— 就是它们字面所表达的值\n",
    "- 变量（Variables），必须先*赋值*才能使用\n",
    "\n",
    "```\n",
    "a = 1 + 2 * 3\n",
    "a += 1\n",
    "print(a)\n",
    "```\n",
    "\n",
    "在 Python 中每个 函数都有*返回值*，即便你在定义一个函数的时候没有设定返回值，它也会加上默认的返回值 `None`"
   ],
   "cell_type": "markdown",
   "metadata": {}
  },
  {
   "cell_type": "code",
   "execution_count": 1,
   "metadata": {},
   "outputs": [
    {
     "output_type": "stream",
     "name": "stdout",
     "text": [
      "None\nNone\nNone\n"
     ]
    }
   ],
   "source": [
    "def f():\n",
    "    pass\n",
    "print(f())          # 输出 f() 这个函数被调用后的返回值，None\n",
    "print(print(f()))   # 这一行最外围的 print() 调用了一次 print(f())，所以输出一个 None，\n",
    "                    # 而后再输出这次调用的返回值，所以又输出一次 None"
   ]
  },
  {
   "source": [
    "- `abs()` 返回传递给它的*值*的绝对值\n",
    "- `int()`将传递给它的值得小数部分砍掉\n",
    "- `float()`接到整数参数之后，会返回这个整数的浮点数形式："
   ],
   "cell_type": "markdown",
   "metadata": {}
  },
  {
   "cell_type": "code",
   "execution_count": 13,
   "metadata": {},
   "outputs": [
    {
     "output_type": "execute_result",
     "data": {
      "text/plain": [
       "2.398576"
      ]
     },
     "metadata": {},
     "execution_count": 13
    },
    {
     "output_type": "execute_result",
     "data": {
      "text/plain": [
       "2"
      ]
     },
     "metadata": {},
     "execution_count": 13
    },
    {
     "output_type": "execute_result",
     "data": {
      "text/plain": [
       "2.0"
      ]
     },
     "metadata": {},
     "execution_count": 13
    }
   ],
   "source": [
    "from IPython.core.interactiveshell import InteractiveShell\n",
    "InteractiveShell.ast_node_interactivity = \"all\"\n",
    "\n",
    "abs(-2.398576)\n",
    "int(abs(-2.398576))\n",
    "float(int(abs(-2.398576)))"
   ]
  },
  {
   "source": [
    "## 值的类型 "
   ],
   "cell_type": "markdown",
   "metadata": {}
  },
  {
   "source": [
    "- 布尔值（Boolean Value）\n",
    "- 数字（Number）：整数（Int）、浮点数（Float）、复数（Complex Numbers）\n",
    "- 字符串（Strings）\n",
    "\n",
    "**默认法则：通常情况下应该是相同类型的值才能相互运算**\n",
    "\n",
    "不得不对不同类型的值进行运算之前，总是要事先做 **Type Casting** （类型转换）：\n"
   ],
   "cell_type": "markdown",
   "metadata": {}
  },
  {
   "cell_type": "code",
   "execution_count": 16,
   "metadata": {},
   "outputs": [
    {
     "output_type": "execute_result",
     "data": {
      "text/plain": [
       "int"
      ]
     },
     "metadata": {},
     "execution_count": 16
    },
    {
     "output_type": "execute_result",
     "data": {
      "text/plain": [
       "float"
      ]
     },
     "metadata": {},
     "execution_count": 16
    },
    {
     "output_type": "execute_result",
     "data": {
      "text/plain": [
       "str"
      ]
     },
     "metadata": {},
     "execution_count": 16
    },
    {
     "output_type": "execute_result",
     "data": {
      "text/plain": [
       "bool"
      ]
     },
     "metadata": {},
     "execution_count": 16
    },
    {
     "output_type": "execute_result",
     "data": {
      "text/plain": [
       "range"
      ]
     },
     "metadata": {},
     "execution_count": 16
    },
    {
     "output_type": "execute_result",
     "data": {
      "text/plain": [
       "list"
      ]
     },
     "metadata": {},
     "execution_count": 16
    },
    {
     "output_type": "execute_result",
     "data": {
      "text/plain": [
       "tuple"
      ]
     },
     "metadata": {},
     "execution_count": 16
    },
    {
     "output_type": "execute_result",
     "data": {
      "text/plain": [
       "set"
      ]
     },
     "metadata": {},
     "execution_count": 16
    },
    {
     "output_type": "execute_result",
     "data": {
      "text/plain": [
       "dict"
      ]
     },
     "metadata": {},
     "execution_count": 16
    }
   ],
   "source": [
    "from IPython.core.interactiveshell import InteractiveShell\n",
    "InteractiveShell.ast_node_interactivity = \"all\"\n",
    "\n",
    "type(3)\n",
    "type(3.0)\n",
    "type('3.14')\n",
    "type(True)\n",
    "type(range(10))\n",
    "type([1,2,3])\n",
    "type((1,2,3))\n",
    "type({1,2,3})\n",
    "type({'a':1, 'b':2, 'c':3})"
   ]
  },
  {
   "source": [
    "## 操作符\n",
    "\n",
    "完整操作符优先级：https://docs.python.org/3/reference/expressions.html#operator-precedence\n",
    "\n",
    "\n",
    "### 数值操作符\n",
    "\n",
    "优先级：\n",
    "\n",
    "- 对两个值进行操作的 `+`、`-` 的优先级最低；\n",
    "- 稍高的是 `*`、`/`、`//`、`%`；\n",
    "- 更高的是对单个值进行操作的 `+`、`-`；\n",
    "- 优先级最高的是 `**`。\n",
    "\n",
    "### 布尔值操作符\n",
    "\n",
    "- `与`：`and`，优先级其次；\n",
    "- `或`：`or`，优先级最低；\n",
    "- `非`：`not`，优先级最高。\n",
    "\n",
    "\n",
    "\n"
   ],
   "cell_type": "markdown",
   "metadata": {}
  },
  {
   "cell_type": "code",
   "execution_count": 18,
   "metadata": {},
   "outputs": [
    {
     "output_type": "execute_result",
     "data": {
      "text/plain": [
       "False"
      ]
     },
     "metadata": {},
     "execution_count": 18
    }
   ],
   "source": [
    "True and False"
   ]
  },
  {
   "cell_type": "code",
   "execution_count": 19,
   "metadata": {},
   "outputs": [
    {
     "output_type": "execute_result",
     "data": {
      "text/plain": [
       "False"
      ]
     },
     "metadata": {},
     "execution_count": 19
    }
   ],
   "source": [
    "True and False or not True"
   ]
  },
  {
   "source": [
    "### 逻辑操作符\n",
    "\n",
    "- `<`\n",
    "- `<=`\n",
    "- `>`\n",
    "- `>=`\n",
    "- `!=`\n",
    "- `==`\n",
    "\n",
    "\n",
    "\n",
    "操作符优先级从左到右递增：\n",
    "\n",
    "**布尔值操作符**、**逻辑操作符**、**数值计算操作符**\n",
    "\n",
    "### 字符串操作符\n",
    "\n",
    "- 拼接：`+` 和 `空格`\n",
    "- 拷贝：`*`\n",
    "- 逻辑运算：`in`、`not in`；以及，`<`、`<=`、`>`、`>=`、`!=`、`==`\n",
    "\n",
    "字符之间，字符串之间如果被逻辑操作符运算的时候，被比较的是对应的 Unicode 码\n",
    "\n"
   ],
   "cell_type": "markdown",
   "metadata": {}
  },
  {
   "cell_type": "code",
   "execution_count": 36,
   "metadata": {},
   "outputs": [
    {
     "output_type": "execute_result",
     "data": {
      "text/plain": [
       "21452"
      ]
     },
     "metadata": {},
     "execution_count": 36
    }
   ],
   "source": [
    "ord('双')"
   ]
  },
  {
   "source": [
    "字符串被比较的时候，将从两个字符串各自的第一个字符开始逐个比较（如果相等，就比较下一个），直到比较出结果。\n",
    "\n",
    "如果两边位数不等，前面的位数又都相等时，比较两边的位数（原文实在是读不懂，试了好几遍连蒙带猜的）\n",
    "\n",
    "原文：\n",
    "\n",
    "> Strings (instances of str) compare lexicographically using the numerical Unicode code points (the result of the built-in function ord()) of their characters.\n",
    "\n",
    "> Collections that support order comparison are ordered the same as their first unequal elements (for example, [1,2,x] <=[1,2,y] has the same value as x <= y). If a corresponding element does not exist, the shorter collection is ordered first (for example, [1,2] < [1,2,3] is true)."
   ],
   "cell_type": "markdown",
   "metadata": {}
  },
  {
   "cell_type": "code",
   "execution_count": 94,
   "metadata": {},
   "outputs": [
    {
     "output_type": "execute_result",
     "data": {
      "text/plain": [
       "True"
      ]
     },
     "metadata": {},
     "execution_count": 94
    }
   ],
   "source": [
    "'bca' > 'bc'"
   ]
  }
 ]
}