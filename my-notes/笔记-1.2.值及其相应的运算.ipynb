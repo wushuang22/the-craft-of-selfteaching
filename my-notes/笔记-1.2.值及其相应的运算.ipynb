{
 "metadata": {
  "language_info": {
   "codemirror_mode": {
    "name": "ipython",
    "version": 3
   },
   "file_extension": ".py",
   "mimetype": "text/x-python",
   "name": "python",
   "nbconvert_exporter": "python",
   "pygments_lexer": "ipython3",
   "version": "3.8.3-final"
  },
  "orig_nbformat": 2,
  "kernelspec": {
   "name": "Python 3.8.3 64-bit ('anaconda3': virtualenv)",
   "display_name": "Python 3.8.3 64-bit ('anaconda3': virtualenv)",
   "metadata": {
    "interpreter": {
     "hash": "c406a9cfc1551b01779fefec774f1263b6489e9079614e0d91df0ff6a4ea3df7"
    }
   }
  }
 },
 "nbformat": 4,
 "nbformat_minor": 2,
 "cells": [
  {
   "source": [
    "# 1.0 值及其相应的运算"
   ],
   "cell_type": "markdown",
   "metadata": {}
  },
  {
   "source": [
    "- 运算（Evaluation）\n",
    "- 流程控制（Control Flow）\n",
    "\n",
    "**函数看做是子程序**"
   ],
   "cell_type": "markdown",
   "metadata": {}
  },
  {
   "source": [
    "## 值"
   ],
   "cell_type": "markdown",
   "metadata": {}
  },
  {
   "source": [
    "- 运算（Evaluation）\n",
    "- 评价\n",
    "- 常量（Literals），有个*值* —— 就是它们字面所表达的值\n",
    "- 变量（Variables），必须先*赋值*才能使用\n",
    "\n",
    "```\n",
    "a = 1 + 2 * 3\n",
    "a += 1\n",
    "print(a)\n",
    "```\n",
    "\n",
    "在 Python 中每个 函数都有*返回值*，即便你在定义一个函数的时候没有设定返回值，它也会加上默认的返回值 `None`"
   ],
   "cell_type": "markdown",
   "metadata": {}
  },
  {
   "cell_type": "code",
   "execution_count": 1,
   "metadata": {},
   "outputs": [
    {
     "output_type": "stream",
     "name": "stdout",
     "text": [
      "None\nNone\nNone\n"
     ]
    }
   ],
   "source": [
    "def f():\n",
    "    pass\n",
    "print(f())          # 输出 f() 这个函数被调用后的返回值，None\n",
    "print(print(f()))   # 这一行最外围的 print() 调用了一次 print(f())，所以输出一个 None，\n",
    "                    # 而后再输出这次调用的返回值，所以又输出一次 None"
   ]
  },
  {
   "source": [
    "- `abs()` 返回传递给它的*值*的绝对值\n",
    "- `int()`将传递给它的值得小数部分砍掉\n",
    "- `float()`接到整数参数之后，会返回这个整数的浮点数形式："
   ],
   "cell_type": "markdown",
   "metadata": {}
  },
  {
   "cell_type": "code",
   "execution_count": 13,
   "metadata": {},
   "outputs": [
    {
     "output_type": "execute_result",
     "data": {
      "text/plain": [
       "2.398576"
      ]
     },
     "metadata": {},
     "execution_count": 13
    },
    {
     "output_type": "execute_result",
     "data": {
      "text/plain": [
       "2"
      ]
     },
     "metadata": {},
     "execution_count": 13
    },
    {
     "output_type": "execute_result",
     "data": {
      "text/plain": [
       "2.0"
      ]
     },
     "metadata": {},
     "execution_count": 13
    }
   ],
   "source": [
    "from IPython.core.interactiveshell import InteractiveShell\n",
    "InteractiveShell.ast_node_interactivity = \"all\"\n",
    "\n",
    "abs(-2.398576)\n",
    "int(abs(-2.398576))\n",
    "float(int(abs(-2.398576)))"
   ]
  },
  {
   "source": [
    "## 值的类型 "
   ],
   "cell_type": "markdown",
   "metadata": {}
  },
  {
   "source": [
    "- 布尔值（Boolean Value）\n",
    "- 数字（Number）：整数（Int）、浮点数（Float）、复数（Complex Numbers）\n",
    "- 字符串（Strings）\n",
    "\n",
    "**默认法则：通常情况下应该是相同类型的值才能相互运算**\n",
    "\n",
    "不得不对不同类型的值进行运算之前，总是要事先做 **Type Casting** （类型转换）：\n"
   ],
   "cell_type": "markdown",
   "metadata": {}
  },
  {
   "cell_type": "code",
   "execution_count": 16,
   "metadata": {},
   "outputs": [
    {
     "output_type": "execute_result",
     "data": {
      "text/plain": [
       "int"
      ]
     },
     "metadata": {},
     "execution_count": 16
    },
    {
     "output_type": "execute_result",
     "data": {
      "text/plain": [
       "float"
      ]
     },
     "metadata": {},
     "execution_count": 16
    },
    {
     "output_type": "execute_result",
     "data": {
      "text/plain": [
       "str"
      ]
     },
     "metadata": {},
     "execution_count": 16
    },
    {
     "output_type": "execute_result",
     "data": {
      "text/plain": [
       "bool"
      ]
     },
     "metadata": {},
     "execution_count": 16
    },
    {
     "output_type": "execute_result",
     "data": {
      "text/plain": [
       "range"
      ]
     },
     "metadata": {},
     "execution_count": 16
    },
    {
     "output_type": "execute_result",
     "data": {
      "text/plain": [
       "list"
      ]
     },
     "metadata": {},
     "execution_count": 16
    },
    {
     "output_type": "execute_result",
     "data": {
      "text/plain": [
       "tuple"
      ]
     },
     "metadata": {},
     "execution_count": 16
    },
    {
     "output_type": "execute_result",
     "data": {
      "text/plain": [
       "set"
      ]
     },
     "metadata": {},
     "execution_count": 16
    },
    {
     "output_type": "execute_result",
     "data": {
      "text/plain": [
       "dict"
      ]
     },
     "metadata": {},
     "execution_count": 16
    }
   ],
   "source": [
    "from IPython.core.interactiveshell import InteractiveShell\n",
    "InteractiveShell.ast_node_interactivity = \"all\"\n",
    "\n",
    "type(3)\n",
    "type(3.0)\n",
    "type('3.14')\n",
    "type(True)\n",
    "type(range(10))\n",
    "type([1,2,3])\n",
    "type((1,2,3))\n",
    "type({1,2,3})\n",
    "type({'a':1, 'b':2, 'c':3})"
   ]
  },
  {
   "source": [
    "## 操作符\n",
    "\n",
    "完整操作符优先级：https://docs.python.org/3/reference/expressions.html#operator-precedence\n",
    "\n",
    "\n",
    "### 数值操作符\n",
    "\n",
    "优先级：\n",
    "\n",
    "- 对两个值进行操作的 `+`、`-` 的优先级最低；\n",
    "- 稍高的是 `*`、`/`、`//`、`%`；\n",
    "- 更高的是对单个值进行操作的 `+`、`-`；\n",
    "- 优先级最高的是 `**`。\n",
    "\n",
    "### 布尔值操作符\n",
    "\n",
    "- `或`：`or`，优先级最低；\n",
    "- `与`：`and`，优先级其次；\n",
    "- `非`：`not`，优先级最高。\n",
    "\n",
    "\n",
    "\n"
   ],
   "cell_type": "markdown",
   "metadata": {}
  },
  {
   "cell_type": "code",
   "execution_count": 18,
   "metadata": {},
   "outputs": [
    {
     "output_type": "execute_result",
     "data": {
      "text/plain": [
       "False"
      ]
     },
     "metadata": {},
     "execution_count": 18
    }
   ],
   "source": [
    "True and False"
   ]
  },
  {
   "cell_type": "code",
   "execution_count": 19,
   "metadata": {},
   "outputs": [
    {
     "output_type": "execute_result",
     "data": {
      "text/plain": [
       "False"
      ]
     },
     "metadata": {},
     "execution_count": 19
    }
   ],
   "source": [
    "True and False or not True"
   ]
  },
  {
   "source": [
    "### 逻辑操作符\n",
    "\n",
    "- `<`\n",
    "- `<=`\n",
    "- `>`\n",
    "- `>=`\n",
    "- `!=`\n",
    "- `==`\n",
    "\n",
    "\n",
    "\n",
    "操作符优先级从左到右递增：\n",
    "\n",
    "**布尔值操作符**、**逻辑操作符**、**数值计算操作符**\n",
    "\n",
    "### 字符串操作符\n",
    "\n",
    "- 拼接：`+` 和 `空格`\n",
    "- 拷贝：`*`\n",
    "- 逻辑运算：`in`、`not in`；以及，`<`、`<=`、`>`、`>=`、`!=`、`==`\n",
    "\n",
    "字符之间，字符串之间如果被逻辑操作符运算的时候，被比较的是对应的 Unicode 码\n",
    "\n"
   ],
   "cell_type": "markdown",
   "metadata": {}
  },
  {
   "cell_type": "code",
   "execution_count": 36,
   "metadata": {},
   "outputs": [
    {
     "output_type": "execute_result",
     "data": {
      "text/plain": [
       "21452"
      ]
     },
     "metadata": {},
     "execution_count": 36
    }
   ],
   "source": [
    "ord('双')"
   ]
  },
  {
   "source": [
    "字符串被比较的时候，将从两个字符串各自的第一个字符开始逐个比较（如果相等，就比较下一个），直到比较出结果。\n",
    "\n",
    "如果两边位数不等，前面的位数又都相等时，比较两边的位数（原文实在是读不懂，试了好几遍连蒙带猜的）\n",
    "\n",
    "原文：\n",
    "\n",
    "> Strings (instances of str) compare lexicographically using the numerical Unicode code points (the result of the built-in function ord()) of their characters.\n",
    "\n",
    "> Collections that support order comparison are ordered the same as their first unequal elements (for example, [1,2,x] <=[1,2,y] has the same value as x <= y). If a corresponding element does not exist, the shorter collection is ordered first (for example, [1,2] < [1,2,3] is true)."
   ],
   "cell_type": "markdown",
   "metadata": {}
  },
  {
   "cell_type": "code",
   "execution_count": 94,
   "metadata": {},
   "outputs": [
    {
     "output_type": "execute_result",
     "data": {
      "text/plain": [
       "True"
      ]
     },
     "metadata": {},
     "execution_count": 94
    }
   ],
   "source": [
    "'bca' > 'bc'"
   ]
  },
  {
   "source": [
    "### 列表的操作符\n",
    "\n",
    "数字和字符串（由字符构成的序列）是最基本的数据类型\n",
    "\n",
    "需要数组批量处理数字和字符串\n",
    "\n",
    "Python 用 **容器**（Container）容纳批量的数据\n",
    "\n",
    "列表（List）：`[]` —— 有序容器，和字符串操作符运算时可用的操作符一样，比较时，列表中的数据元素类型相同\n",
    "\n",
    "- 拼接：`+` 和 `空格`\n",
    "- 拷贝：`*`\n",
    " - 逻辑运算：`in`、`not in`；以及，`<`、`<=`、`>`、`>=`、`!=`、`==`"
   ],
   "cell_type": "markdown",
   "metadata": {}
  },
  {
   "source": [
    "## 更复杂的运算\n",
    "\n"
   ],
   "cell_type": "markdown",
   "metadata": {}
  },
  {
   "source": [
    "更为复杂一点的要通过调用函数来完成\n",
    "\n",
    "Python 内建函数\n",
    "\n",
    "更复杂的需要调用标准库（Standard Library）中的 math 模块（Module）"
   ],
   "cell_type": "markdown",
   "metadata": {}
  },
  {
   "cell_type": "code",
   "execution_count": 4,
   "metadata": {},
   "outputs": [
    {
     "output_type": "execute_result",
     "data": {
      "text/plain": [
       "-0.9589242746631385"
      ]
     },
     "metadata": {},
     "execution_count": 4
    }
   ],
   "source": [
    "import math\n",
    "math.sin(5)"
   ]
  },
  {
   "source": [
    "代码 `math.sin(5)` 中的 `.` 可以倍理解为“操作符”，他的作用是：从其他模块中调用函数。\n",
    "\n",
    "代码 `math.sin(5)` 的作用是：把 `5` 这个值，传递给 `math` 这个模块里的 `sin()` 函数，让 `sin()` 根据它内部的代码对这个值进行运算，而后返回一个值（即，计算结果）。\n",
    "\n",
    "类（Class）中定义的函数，也可以被这样调用。\n",
    "\n",
    "数字，其实属于一个类（这个没看懂，包括例子也没懂）"
   ],
   "cell_type": "markdown",
   "metadata": {}
  },
  {
   "source": [
    "## 包括布尔值的补充\n",
    "\n"
   ],
   "cell_type": "markdown",
   "metadata": {}
  },
  {
   "cell_type": "code",
   "execution_count": 5,
   "metadata": {},
   "outputs": [
    {
     "output_type": "execute_result",
     "data": {
      "text/plain": [
       "True"
      ]
     },
     "metadata": {},
     "execution_count": 5
    }
   ],
   "source": [
    "True or 'Python'"
   ]
  },
  {
   "source": [
    "'Python' 是个非空的字符串，即，不属于是 empty sequences，所以它不被认为是 False，即，它的布尔值是 True\n",
    "\n",
    "被认为是 False 的对象是：\n",
    "- constants defined to be false: None and False.\n",
    "- zero of any numeric type: 0, 0.0, 0j, Decimal(0), Fraction(0, 1)\n",
    "- empty sequences and collections: '', (), [], {}, set(), range(0)\n",
    "\n",
    "每个变量或者常量，除了它们的值之外，同时还相当于有一个对应的布尔值"
   ],
   "cell_type": "markdown",
   "metadata": {}
  },
  {
   "source": [
    "## 关于值的类型的补充\n",
    "\n",
    "除了数字、布尔值、字符串以及列表之外，还有若干数据类型，比如 `range()` （等差数列）、`tuple`（元组）、`set`（集合）、`dictionary`（字典）、`Date Type`（日期）等等。\n",
    "\n",
    "现实中更多需要的是把基础类型组合起来构成的数据。\n",
    "\n",
    "针对不同的类型，都有相应的操作符，可以对其进行运算。\n",
    "\n",
    "在相互运算之前要 **Type Casting**。\n",
    "\n",
    "## 总结\n",
    "\n",
    "- 运算（Evaluation）\n",
    "- 流程控制（Control Flow）\n",
    "\n",
    "值的类型：\n",
    "- 布尔值（Boolean Value）\n",
    "- 数字（Number）：整数（Int）、浮点数（Float）、复数（Complex Numbers）\n",
    "- 字符串（Strings）\n",
    "\n",
    "值的操作方式：\n",
    "- 操作符\n",
    "    - 值运算\n",
    "    - 逻辑运算\n",
    "- 函数\n",
    "- 内建函数\n",
    "- 其他模块里的函数\n",
    "- 其本身所属类之中所定义的函数\n",
    "\n",
    "接下来熟悉各种数据类型，及其相应的操作，包括能对他们的**值**进行操作的操作符和函数；无论是操作符还是函数，最终都会返回一个相应的**值**，以及相应的**布尔值** —— 这么看来，编程知识结构没多复杂。因为换句话讲，\n",
    "> 接下来你要学习的无非是各种数据类型的**运算**而已。\n",
    "\n",
    "最终会发现**函数**和操作符一样，在程序里无所不在。\n"
   ],
   "cell_type": "markdown",
   "metadata": {}
  }
 ]
}