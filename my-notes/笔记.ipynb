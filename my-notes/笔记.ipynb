{
 "metadata": {
  "language_info": {
   "codemirror_mode": {
    "name": "ipython",
    "version": 3
   },
   "file_extension": ".py",
   "mimetype": "text/x-python",
   "name": "python",
   "nbconvert_exporter": "python",
   "pygments_lexer": "ipython3",
   "version": "3.8.3-final"
  },
  "orig_nbformat": 2,
  "kernelspec": {
   "name": "Python 3.8.3 64-bit ('anaconda3': virtualenv)",
   "display_name": "Python 3.8.3 64-bit ('anaconda3': virtualenv)",
   "metadata": {
    "interpreter": {
     "hash": "c406a9cfc1551b01779fefec774f1263b6489e9079614e0d91df0ff6a4ea3df7"
    }
   }
  }
 },
 "nbformat": 4,
 "nbformat_minor": 2,
 "cells": [
  {
   "source": [
    "# 1.0 入口"
   ],
   "cell_type": "markdown",
   "metadata": {}
  },
  {
   "source": [
    "## 1.1 布尔运算"
   ],
   "cell_type": "markdown",
   "metadata": {}
  },
  {
   "source": [
    "可编程的核心就是**布尔运算**以及相应的**流程控制**"
   ],
   "cell_type": "markdown",
   "metadata": {}
  },
  {
   "source": [
    "### 1.1.1 布尔值\n",
    "\n",
    "Python 语言中，布尔值用 `True` 和 `False` 来表示。"
   ],
   "cell_type": "markdown",
   "metadata": {}
  },
  {
   "source": [
    "### 1.1.2 逻辑操作符\n",
    "\n",
    "**运算对象**是数字值和字符串值"
   ],
   "cell_type": "markdown",
   "metadata": {}
  },
  {
   "cell_type": "code",
   "execution_count": 13,
   "metadata": {},
   "outputs": [
    {
     "output_type": "execute_result",
     "data": {
      "text/plain": [
       "False"
      ]
     },
     "metadata": {},
     "execution_count": 13
    },
    {
     "output_type": "execute_result",
     "data": {
      "text/plain": [
       "True"
      ]
     },
     "metadata": {},
     "execution_count": 13
    },
    {
     "output_type": "execute_result",
     "data": {
      "text/plain": [
       "False"
      ]
     },
     "metadata": {},
     "execution_count": 13
    },
    {
     "output_type": "execute_result",
     "data": {
      "text/plain": [
       "False"
      ]
     },
     "metadata": {},
     "execution_count": 13
    },
    {
     "output_type": "execute_result",
     "data": {
      "text/plain": [
       "True"
      ]
     },
     "metadata": {},
     "execution_count": 13
    },
    {
     "output_type": "execute_result",
     "data": {
      "text/plain": [
       "True"
      ]
     },
     "metadata": {},
     "execution_count": 13
    },
    {
     "output_type": "execute_result",
     "data": {
      "text/plain": [
       "True"
      ]
     },
     "metadata": {},
     "execution_count": 13
    }
   ],
   "source": [
    "from IPython.core.interactiveshell import InteractiveShell\n",
    "InteractiveShell.ast_node_interactivity = \"all\"\n",
    "\n",
    "1 == 2\n",
    "1 != 2\n",
    "1 > 2\n",
    "1 >= 2\n",
    "1 < 2\n",
    "1 <= 2\n",
    "'a' in 'basic'  #属于关系"
   ]
  },
  {
   "source": [
    "### 1.1.3 布尔运算操作符\n",
    "\n",
    "运算对象是布尔值，操作符是：与、或、非\n",
    "\n",
    "分别用 `and`、`or`、`not` 表示\n",
    "\n",
    "![](../images/boolean-operators.png)"
   ],
   "cell_type": "markdown",
   "metadata": {}
  },
  {
   "cell_type": "code",
   "execution_count": 15,
   "metadata": {},
   "outputs": [
    {
     "output_type": "stream",
     "name": "stdout",
     "text": [
      "False\nTrue\nFalse\nFalse\nTrue\nTrue\nTrue\nFalse\nFalse\nTrue\n"
     ]
    }
   ],
   "source": [
    "print(True and False)\n",
    "print(True and True)\n",
    "print(False and True)\n",
    "print(False and False)\n",
    "print(True or True)\n",
    "print(True or False)\n",
    "print(False or True)\n",
    "print(False or False)\n",
    "print(not True)\n",
    "print(not False)"
   ]
  },
  {
   "source": [
    "## 1.2 流程控制"
   ],
   "cell_type": "markdown",
   "metadata": {}
  },
  {
   "cell_type": "code",
   "execution_count": 17,
   "metadata": {},
   "outputs": [
    {
     "output_type": "stream",
     "name": "stdout",
     "text": [
      "0 is even.\n1 is odd.\n2 is even.\n3 is odd.\n4 is even.\n5 is odd.\n6 is even.\n7 is odd.\n8 is even.\n9 is odd.\n"
     ]
    }
   ],
   "source": [
    "for i in range(10):\n",
    "    if i % 2 != 0:\n",
    "        print(i, 'is odd.')\n",
    "    else:\n",
    "        print(i, 'is even.')"
   ]
  },
  {
   "source": [
    "写代码是最基础的工具，还是得靠思考能力\n",
    "\n",
    "文字值得写出来的事思想，用代码值得写出来的事创造，或者起码是有意义的问题的有效解决方案。有思想，能解决问题，是另外一门手艺 —— 需要众生精进的手艺"
   ],
   "cell_type": "markdown",
   "metadata": {}
  },
  {
   "source": [
    "## 1.3 所谓函数"
   ],
   "cell_type": "markdown",
   "metadata": {}
  },
  {
   "source": [
    "相关的概念有：\n",
    "\n",
    "1. 函数名（Function Name）\n",
    "2. 参数（Parameters）\n",
    "3. 返回值（Return Value）\n",
    "4. 调用（Call）"
   ],
   "cell_type": "markdown",
   "metadata": {}
  },
  {
   "cell_type": "code",
   "execution_count": 24,
   "metadata": {},
   "outputs": [
    {
     "output_type": "execute_result",
     "data": {
      "text/plain": [
       "357438.34785"
      ]
     },
     "metadata": {},
     "execution_count": 24
    }
   ],
   "source": [
    "a = abs(-357438.34785)  #接受一个数字作为参数，经过运算，返回该数字的绝对值\n",
    "a"
   ]
  },
  {
   "source": [
    "结构上来看，每个函数都是一个完整的程序，因为一个程序，核心构成部分就是：\n",
    "\n",
    "- 输入 —— 他能接收外部通过参数传递的值；\n",
    "- 处理 —— 内部有能够完成某一特定任务的代码；尤其是，它可以根据 “输入” 得到 “输出”；\n",
    "- 输出 —— 他能向外部输送返回值\n",
    "\n",
    "被调用的函数，也可以被理解为**子程序**（Sub-Program） —— 主程序执行到函数调用时，就开始执行实现函数的那些代码，而后再返回主程序"
   ],
   "cell_type": "markdown",
   "metadata": {}
  },
  {
   "source": [
    "## 1.4 细节补充"
   ],
   "cell_type": "markdown",
   "metadata": {}
  },
  {
   "source": [
    "### 1.4.1 语句\n",
    "\n",
    "一个完整的程序，有一个或者多个**语句**（Statements）构成。通常情况下，建议每一行只写一条语句。\n",
    "\n",
    "### 1.4.2 语句块\n",
    "\n",
    "**行首空白**（Leading whitespace，由空格或者 Tab 构成）有着特殊的含义。\n",
    "\n",
    "如果有行首空白存在，那么 Python 将认为这一行与其他临近有着相同行首空白的语句属于一个**语句块** —— 而一个语句块必然由一个行末带有冒号 `:` 的语句**起始**。\n",
    "\n",
    "![](../images/python-leading-space.png)\n",
    "\n",
    "**注意：**在同一个文件里，不建议混合使用空格和 Tab；要么全用空格，要么全用 Tab。\n",
    "\n",
    "### 1.4.3 注释\n",
    "\n",
    "用 `#` 符号注释\n",
    "\n",
    "### 1.4.4 操作符\n",
    "\n",
    "- `+`   加\n",
    "- `-`   减\n",
    "- `*`   乘\n",
    "- `/`   除\n",
    "- `//`  商\n",
    "- `%`   余\n",
    "- `**`  幂\n",
    "\n",
    "### 1.4.5 赋值符号与操作符的连用\n",
    "\n",
    "`x += 1` 就是 `x = x + 1`\n",
    "`x %= 3` 就是 `x = x % 3`\n",
    "\n",
    "> `+`、`-`、`*`、`/`、`//`、`%`、`**` 都可以与赋值符号并用。\n"
   ],
   "cell_type": "markdown",
   "metadata": {}
  },
  {
   "source": [
    "## 1.5 总结\n",
    "\n"
   ],
   "cell_type": "markdown",
   "metadata": {}
  },
  {
   "source": [
    "> * 数据：整数、布尔值；操作符；变量、赋值；表达式\n",
    "> * 函数、子程序、参数、返回值、调用\n",
    "> * 流程控制、分支、循环\n",
    "> * 算法、优化\n",
    "> * 程序：语句、注释、语句块\n",
    "> * 输入、处理、输出\n",
    "> * 解释器"
   ],
   "cell_type": "markdown",
   "metadata": {}
  }
 ]
}